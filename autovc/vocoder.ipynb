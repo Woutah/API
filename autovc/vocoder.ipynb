{
 "cells": [
  {
   "cell_type": "code",
   "execution_count": 2,
   "metadata": {},
   "outputs": [
    {
     "output_type": "stream",
     "name": "stderr",
     "text": [
      "  0%|          | 11/23040 [00:00<03:48, 100.83it/s]p225xp225\n",
      "100%|██████████| 23040/23040 [03:46<00:00, 101.74it/s]\n",
      "  0%|          | 11/23040 [00:00<03:40, 104.67it/s]p225xp228\n",
      "100%|██████████| 23040/23040 [03:46<00:00, 101.94it/s]\n",
      "  0%|          | 11/23040 [00:00<03:42, 103.68it/s]p225xp256\n",
      "100%|██████████| 23040/23040 [03:46<00:00, 101.91it/s]\n",
      "  0%|          | 11/23040 [00:00<03:40, 104.67it/s]p225xp270\n",
      "100%|██████████| 23040/23040 [03:45<00:00, 102.07it/s]\n",
      "  0%|          | 11/22784 [00:00<03:37, 104.67it/s]p228xp225\n",
      "100%|██████████| 22784/22784 [03:43<00:00, 101.84it/s]\n",
      "  0%|          | 11/22784 [00:00<03:39, 103.68it/s]p228xp228\n",
      "100%|██████████| 22784/22784 [03:44<00:00, 101.63it/s]\n",
      "  0%|          | 11/22784 [00:00<03:39, 103.68it/s]p228xp256\n",
      "100%|██████████| 22784/22784 [03:41<00:00, 103.07it/s]\n",
      "  0%|          | 11/22784 [00:00<03:37, 104.67it/s]p228xp270\n",
      "100%|██████████| 22784/22784 [03:42<00:00, 102.22it/s]\n",
      "  0%|          | 11/19200 [00:00<03:06, 102.98it/s]p256xp225\n",
      "100%|██████████| 19200/19200 [03:09<00:00, 101.49it/s]\n",
      "  0%|          | 11/19200 [00:00<03:08, 101.76it/s]p256xp228\n",
      "100%|██████████| 19200/19200 [03:08<00:00, 101.63it/s]\n",
      "  0%|          | 11/19200 [00:00<03:03, 104.67it/s]p256xp256\n",
      "100%|██████████| 19200/19200 [03:08<00:00, 102.07it/s]\n",
      "  0%|          | 11/19200 [00:00<03:06, 102.71it/s]p256xp270\n",
      "100%|██████████| 19200/19200 [03:07<00:00, 102.22it/s]\n",
      "  0%|          | 11/27904 [00:00<04:23, 105.67it/s]p270xp225\n",
      "100%|██████████| 27904/27904 [04:31<00:00, 102.96it/s]\n",
      "  0%|          | 11/27904 [00:00<04:26, 104.66it/s]p270xp228\n",
      "100%|██████████| 27904/27904 [04:31<00:00, 102.95it/s]\n",
      "  0%|          | 11/27904 [00:00<04:23, 105.67it/s]p270xp256\n",
      "100%|██████████| 27904/27904 [04:33<00:00, 102.20it/s]\n",
      "  0%|          | 11/27904 [00:00<04:23, 105.67it/s]p270xp270\n",
      "100%|██████████| 27904/27904 [04:30<00:00, 103.01it/s]\n"
     ]
    }
   ],
   "source": [
    "import torch\n",
    "import librosa\n",
    "import soundfile as sf\n",
    "import pickle\n",
    "from synthesis import build_model\n",
    "from synthesis import wavegen\n",
    "\n",
    "spect_vc = pickle.load(open('results/results.pkl', 'rb'))\n",
    "device = torch.device(\"cuda\")\n",
    "model = build_model().to(device)\n",
    "checkpoint = torch.load(\"../networks/checkpoint_step001000000_ema.pth\")\n",
    "model.load_state_dict(checkpoint[\"state_dict\"])\n",
    "\n",
    "for spect in spect_vc:\n",
    "    name = spect[0]\n",
    "    c = spect[1]\n",
    "    print(name)\n",
    "    waveform = wavegen(model, c=c)   \n",
    "    sf.write('results/'+name+'.wav', waveform, 16000)"
   ]
  },
  {
   "cell_type": "code",
   "execution_count": null,
   "metadata": {},
   "outputs": [],
   "source": []
  }
 ],
 "metadata": {
  "kernelspec": {
   "name": "python388jvsc74a57bd0be4783838ac890e3e612994c556006fdeebe7290ba52dc683da66d3f5a811551",
   "display_name": "Python 3.8.8 64-bit ('api': conda)"
  },
  "language_info": {
   "codemirror_mode": {
    "name": "ipython",
    "version": 3
   },
   "file_extension": ".py",
   "mimetype": "text/x-python",
   "name": "python",
   "nbconvert_exporter": "python",
   "pygments_lexer": "ipython3",
   "version": "3.8.8"
  }
 },
 "nbformat": 4,
 "nbformat_minor": 4
}